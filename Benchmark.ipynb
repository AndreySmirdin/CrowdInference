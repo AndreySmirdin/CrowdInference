{
 "cells": [
  {
   "cell_type": "code",
   "execution_count": 1,
   "metadata": {
    "cellId": "43b29e50ybm46k1ypbhron"
   },
   "outputs": [
    {
     "data": {
      "text/plain": [
       "<module 'tests.data_provider' from '/Users/andrey/Documents/5Course/CrowdInference/tests/data_provider.py'>"
      ]
     },
     "execution_count": 1,
     "metadata": {},
     "output_type": "execute_result"
    }
   ],
   "source": [
    "import numpy as np\n",
    "import pandas as pd\n",
    "\n",
    "import os, sys\n",
    "import random\n",
    "\n",
    "try:\n",
    "    os.chdir('CrowdInference')\n",
    "    sys.path.append(os.getcwd())\n",
    "except:\n",
    "    pass\n",
    "\n",
    "import crowd_inference.methods.dawid_skene as ds\n",
    "import crowd_inference.methods.majority_vote as mv\n",
    "import crowd_inference.methods.raykar as r\n",
    "import crowd_inference.methods.raykar_plus_ds as rds\n",
    "import crowd_inference.methods.classifier as cls\n",
    "\n",
    "from crowd_inference.truth_inference import NoFeaturesInference, TruthInference, WithFeaturesInference\n",
    "from sklearn.metrics import accuracy_score\n",
    "from sklearn.linear_model import LinearRegression, LogisticRegression\n",
    "import matplotlib.pyplot as plt\n",
    "from collections import defaultdict\n",
    "import tests.data_provider as data\n",
    "from tqdm.auto import tqdm\n",
    "from typing import Iterable, Dict, List, Optional, Tuple\n",
    "\n",
    "import seaborn as sns\n",
    "sns.set()\n",
    "\n",
    "from importlib import reload\n",
    "\n",
    "def reload_all():\n",
    "    reload(ds)\n",
    "    reload(r)\n",
    "    reload(rds)\n",
    "    reload(cls)\n",
    "\n",
    "reload(data)"
   ]
  },
  {
   "cell_type": "code",
   "execution_count": null,
   "metadata": {
    "cellId": "rz0l0cktuew2bbt9gtvfd"
   },
   "outputs": [],
   "source": []
  },
  {
   "cell_type": "code",
   "execution_count": 2,
   "metadata": {
    "cellId": "mix8bpls6ng0kkv1t03ua0b"
   },
   "outputs": [],
   "source": [
    "sentiment_data = data.SentimentDataProvider('./resources/datasets/sentiment_polarity/mturk_answers.csv',\n",
    "                                       './resources/datasets/sentiment_polarity/polarity_gold_lsa_topics.csv')"
   ]
  },
  {
   "cell_type": "code",
   "execution_count": 7,
   "metadata": {
    "cellId": "7d5aho25ecbbaxg9r1ejtv"
   },
   "outputs": [
    {
     "name": "stdout",
     "output_type": "stream",
     "text": [
      "1254\n",
      "3916\n",
      "4208\n"
     ]
    }
   ],
   "source": [
    "reload_all()\n",
    "\n",
    "flip_probs = [0.2, 0.2, 0.3, 0.5, 0.6]\n",
    "# flip_probs = [0.3]\n",
    "ionosphere_data = data.IonosphereProvider('./resources/datasets/ionosphere/ionosphere.pickle', \n",
    "                                     resample=True,\n",
    "                                     path='./resources/datasets/ionosphere/ionosphere.csv',\n",
    "                                     flip_probs=flip_probs,\n",
    "                                     annotate_prob=0.7)\n",
    "mushrooms_data = data.MushroomsDataProvider(resample=True, flip_probs=flip_probs, annotate_prob=0.7)\n",
    "music_data = data.MusicDataProvider()\n",
    "toloka_data = data.TolokaDataProvider()\n",
    "\n",
    "def features2np(provider: data.DataProvider) -> Tuple[np.ndarray, np.ndarray]:\n",
    "    features = provider.features()\n",
    "    n_features = len(features[list(features.keys())[0]])\n",
    "    n_tasks = len(features)\n",
    "    X = np.zeros((n_tasks, n_features))\n",
    "    y = []\n",
    "    for i, estimation in enumerate(provider.gold()):\n",
    "        X[i] = features[estimation.task]\n",
    "        y.append(estimation.value)\n",
    "    \n",
    "    return X, np.array(y)\n",
    "        \n",
    "\n",
    "def get_classifier_accuracy(inference: WithFeaturesInference, data_provider: data.DataProvider):\n",
    "    X, y = features2np(data_provider)\n",
    "    classification = inference.apply_classifier(X)\n",
    "    accuracy = accuracy_score(y, classification)\n",
    "    print(f'Classifier train accuracy is {accuracy}')\n",
    "    \n",
    "    correct_test = 0\n",
    "    if isinstance(data_provider, data.MusicDataProvider) \\\n",
    "       or isinstance(data_provider, data.SentimentDataProvider) or isinstance(data_provider, data.MushroomsDataProvider):\n",
    "        X, y = data_provider.test()\n",
    "        classification = inference.apply_classifier(X)\n",
    "        test_accuracy = accuracy_score(y, classification)\n",
    "        print(f'Classifier test accuracy is {test_accuracy}')\n",
    "\n",
    "\n",
    "def _get_accuracy(provider: data.DataProvider, inference: TruthInference, max_iter: int, confidence_estimator, lr: float):\n",
    "    correct = []\n",
    "    incorrect = []\n",
    "    accepted = 0\n",
    "    all_points = 0\n",
    "    estimates = {}\n",
    "\n",
    "    if isinstance(inference, ds.DawidSkene):\n",
    "        inference.fit(provider.labels(), max_iter=max_iter)\n",
    "    elif isinstance(inference, r.Raykar):\n",
    "        inference.fit(provider.labels(), provider.features(), max_iter=max_iter, lr=lr)\n",
    "        get_classifier_accuracy(inference, provider)\n",
    "    else:\n",
    "        inference.fit(provider.labels(), provider.features(), max_iter=max_iter, confidence_estimator=confidence_estimator, lr=lr)\n",
    "        get_classifier_accuracy(inference, provider)    \n",
    "\n",
    "    for estimate in inference.estimate():\n",
    "        estimates[estimate.task] = estimate.value\n",
    "    for point in provider.gold():\n",
    "        if point.task in estimates:\n",
    "            estimate = estimates[point.task]\n",
    "            all_points += 1\n",
    "            if point.value == estimate:\n",
    "                accepted += 1\n",
    "                correct.append(point)\n",
    "            else:\n",
    "                incorrect.append(point)\n",
    "\n",
    "    accuracy = accepted / all_points\n",
    "    print(f'Label accuracy is {accuracy}')\n",
    "\n",
    "    return accuracy, {e.task for e in correct}, {e.task for e in incorrect}\n",
    "\n",
    "\n",
    "def compare_methods(provider, max_iter=15, confidence_estimator=None, lr=0.1):\n",
    "    results = []\n",
    "    points_results = []\n",
    "    methods = [ds.DawidSkene(),\n",
    "               r.Raykar(), rds.RaykarPlusDs(), \n",
    "#                rds.RaykarPlusDs(binary=True)\n",
    "              ]\n",
    "    points = []\n",
    "    \n",
    "    for method in methods:\n",
    "        accuracy, correct, incorrect = _get_accuracy(provider, method, max_iter, confidence_estimator, lr)\n",
    "        results.append((method.__str__(), accuracy))\n",
    "        plt.plot(method.logit_)\n",
    "        points_results.append((correct, incorrect))\n",
    "        print('-' * 50)\n",
    "        task, mu, classifier, likelihood_rds, conf_mx, index, grads = [], [], [], [], [], [], []\n",
    "        for k, v in method.predictions_.items():\n",
    "            task.append(k)\n",
    "            mu.append(np.round(v[1], 3))\n",
    "            if isinstance(method, WithFeaturesInference):\n",
    "                classifier.append(np.round(v[2], 3))\n",
    "                grads.append(np.round(v[3], 5))\n",
    "                conf_mx.append(np.round(v[4], 3))\n",
    "            if isinstance(method, rds.RaykarPlusDs):\n",
    "#                 method_rds.append(\"R\" if v[3] else \"DS\")\n",
    "                likelihood_rds.append(np.round(v[6], 3))\n",
    "                index.append(v[7])\n",
    "        \n",
    "        columns = {'task': task, 'mu': mu}\n",
    "        if len(classifier):\n",
    "            columns['classifier'] = classifier\n",
    "            columns['grad'] = grads\n",
    "            columns['conf_mx'] = conf_mx\n",
    "        if len(likelihood_rds):\n",
    "#             columns['method_rds'] = method_rds\n",
    "            columns['likelihood_rds'] = likelihood_rds\n",
    "            columns['index'] = index\n",
    "\n",
    "        points.append(pd.DataFrame(columns))\n",
    "        \n",
    "    print(len(points))\n",
    "    points_aggregated = points[1].merge(points[2], on='task', suffixes=('_r', '_rds'))\n",
    "    points_aggregated = points_aggregated.merge(points[0], on='task')\n",
    "    points_aggregated.rename(columns={'mu': 'mu_ds'}, inplace=True)\n",
    "    \n",
    "    print(results)\n",
    "        \n",
    "    plt.legend(list(map(str, methods)))\n",
    "\n",
    "    # Get points advantages\n",
    "    advantages = []\n",
    "    for i in range(len(methods)):\n",
    "        advantages.append([])\n",
    "        for j in range(len(methods)):\n",
    "            advantages[i].append(points_results[i][0] - points_results[j][0])\n",
    "    \n",
    "    return methods, points_aggregated, advantages\n",
    "\n",
    "def print_conf(methods):\n",
    "    assessors = []\n",
    "    for m in methods:\n",
    "        print(m)\n",
    "        print(m.conf_mx[:, 0, 0])\n",
    "        print(m.conf_mx[:, 1, 1])\n",
    "        \n",
    "def shuffle_features(data):\n",
    "    features_list = []\n",
    "    for k in data._features.keys():\n",
    "        features_list.append(data._features[k])\n",
    "    random.shuffle(features_list)\n",
    "    for k, f in zip(data._features.keys(), features_list):\n",
    "        data._features[k] = f\n",
    "        \n",
    "def plots_for_point(points, data, methods, k):\n",
    "    plt.figure(figsize=(10, 6))\n",
    "\n",
    "    task = points[points.index == k].task.values[0]\n",
    "    for est in data.labels():\n",
    "        if est.task == task:\n",
    "            print(est)\n",
    "\n",
    "    plt.plot(methods[2].mus[:, k, 0])\n",
    "    plt.plot(methods[1].mus[:, k, 0])\n",
    "    plt.plot(methods[0].mus[:, k, 0])\n",
    "\n",
    "    plt.plot(methods[2].cls[:, k, 0])\n",
    "    plt.plot(methods[1].cls[:, k, 0])\n",
    "\n",
    "    plt.plot(methods[2].weights[:, k])\n",
    "\n",
    "    plt.legend(['RDS', 'R', 'DS', 'Classifier RDS', 'Classifier R',\n",
    "                'Raykar weight'])\n",
    "    \n",
    "def build_grad_hist(data, methods, points, name, n_bucket = 100):\n",
    "    gold_dict = {e.task: e.value for e in data.gold()}\n",
    "    \n",
    "    \n",
    "    fig = plt.figure(figsize=(12, 8))\n",
    "    ax = fig.subplots(nrows=2, ncols=1)\n",
    "    print(f'Number of data points: {len(points)}')\n",
    "    \n",
    "    results = []\n",
    "    buckets = []\n",
    "    confidences = []\n",
    "    \n",
    "    for method in [1]:\n",
    "        result = []\n",
    "        buckets.append([])\n",
    "        for _, p in points.iterrows():\n",
    "            flipped = False\n",
    "#             if  method == 2:\n",
    "#                 clazz = np.argmax(p.classifier_rds)\n",
    "#                 grad = np.abs(p.grad_rds)\n",
    "#             elif method == 1:\n",
    "            clazz = np.argmax(p.classifier_r)\n",
    "            grad = np.abs(p.grad_r)\n",
    "            flipped = np.argmax(p.mu_r) != np.argmax(p.conf_mx_r)\n",
    "            \n",
    "            if np.argmax(p.classifier_r) == methods[method].value_to_id[gold_dict[p.task]]:\n",
    "                result.append([grad, True, flipped, False])\n",
    "#                 raise ValueError(p)\n",
    "            else:\n",
    "                result.append([grad, False, False, flipped])\n",
    "\n",
    "        result = np.array(sorted(result))\n",
    "\n",
    "        n = int(np.ceil(len(points) / n_bucket))\n",
    "        xs = []\n",
    "        widths = []\n",
    "        heights_accuracy = []\n",
    "        heights_flipped_good, heights_flipped_bad = [], []\n",
    "        for i in range(n):\n",
    "            cur_points = result[n_bucket * i: min(n_bucket * (i + 1), len(points))]\n",
    "            xs.append((cur_points[0, 0] + cur_points[-1, 0]) * 0.5)\n",
    "            widths.append((cur_points[-1, 0] - cur_points[0, 0]))\n",
    "            heights_accuracy.append(cur_points[:, 1].sum() / len(cur_points))\n",
    "            heights_flipped_good.append(cur_points[:, 2].sum() / len(cur_points))\n",
    "            heights_flipped_bad.append(cur_points[:, 3].sum() / len(cur_points))\n",
    "\n",
    "            buckets[-1].append(cur_points[:, 0])\n",
    "        \n",
    "        xs = np.array(xs)\n",
    "        widths = np.array(widths)\n",
    "        \n",
    "        ax[method - 1].bar(xs, height=heights_accuracy, width=widths)\n",
    "#         print(heights_flipped)\n",
    "        \n",
    "        flipped_widths = widths / 2\n",
    "        ax[1].bar(xs - flipped_widths / 2, height=heights_flipped_good, width=flipped_widths)\n",
    "        ax[1].bar(xs + flipped_widths / 2, height=heights_flipped_bad, width=flipped_widths)\n",
    "\n",
    "\n",
    "        ax[method - 1].set_title(name + \" Точность работы классификатора в зависимости от градиента\")\n",
    "        ax[method].set_title(name + \" Классификатор изменил самый вероятный класс\")\n",
    "        ax[method].legend(['Изменил на правильный', 'Изменил на неправильный'])\n",
    "         \n",
    "        confidences.append(heights_accuracy)\n",
    "        \n",
    "    return buckets, confidences\n",
    "\n",
    "def get_confidence(buckets, confidences):\n",
    "    def get_confidence_binded(x):\n",
    "        x = np.abs(x)\n",
    "        for i in range(len(confidences) - 1):\n",
    "#             print(buckets[i])\n",
    "            if x < buckets[i][-1]:\n",
    "                return confidences[i]\n",
    "        return confidences[-1]\n",
    "    return get_confidence_binded"
   ]
  },
  {
   "cell_type": "code",
   "execution_count": 36,
   "metadata": {},
   "outputs": [
    {
     "name": "stdout",
     "output_type": "stream",
     "text": [
      "[0.         0.         0.60377671 0.         0.39622329]\n",
      "Iter 00, logit: -32.628907\n",
      "[0.         0.         0.55763628 0.         0.44236372]\n",
      "[0.         0.         0.56096436 0.         0.43903564]\n",
      "[0.         0.         0.57375025 0.         0.42624975]\n",
      "[0.         0.         0.59979092 0.         0.40020908]\n",
      "[0.         0.         0.60136967 0.         0.39863033]\n",
      "[0.         0.         0.60226241 0.         0.39773759]\n",
      "[0.         0.         0.60335643 0.         0.39664357]\n",
      "[0.         0.         0.60502771 0.         0.39497229]\n",
      "[0.         0.         0.60859441 0.         0.39140559]\n",
      "[0.         0.         0.62056316 0.         0.37943684]\n",
      "Iter 10, logit: -27.427344\n",
      "[0.         0.         0.63623931 0.         0.36376069]\n",
      "[0.         0.         0.63636364 0.         0.36363636]\n",
      "[0.         0.         0.63636364 0.         0.36363636]\n",
      "---------------\n",
      "w200 [0.125 0.    0.75  0.    0.125]\n",
      "w200 [0.       0.       0.984375 0.       0.015625]\n",
      "w448 [0.31578947 0.         0.63157895 0.         0.05263158]\n",
      "w448 [0.02173913 0.02173913 0.95652174 0.         0.        ]\n",
      "w485 [0.41666608 0.         0.45833269 0.         0.12500123]\n",
      "w485 [0.         0.         0.97727273 0.02272727 0.        ]\n",
      "w621 [0.36363636 0.         0.54545455 0.         0.09090909]\n",
      "w621 [0.04347826 0.08695652 0.82608696 0.04347826 0.        ]\n",
      "w761 [0.54545455 0.         0.18181818 0.         0.27272727]\n",
      "w761 [0.04347826 0.04347826 0.91304348 0.         0.        ]\n",
      "w417 [0.45454545 0.         0.36363636 0.         0.18181818]\n",
      "w417 [0.         0.08695652 0.82608696 0.         0.08695652]\n",
      "w827 [0.18181818 0.         0.63636364 0.         0.18181818]\n",
      "w827 [1.94322009e-39 0.00000000e+00 9.56521739e-01 4.34782609e-02\n",
      " 0.00000000e+00]\n",
      "w184 [0.66666667 0.         0.14814815 0.         0.18518519]\n",
      "w184 [0.01470588 0.01470588 0.95588235 0.         0.01470588]\n",
      "w178 [0.6 0.  0.1 0.  0.3]\n",
      "w178 [0. 0. 1. 0. 0.]\n",
      "w236 [0.54347786 0.         0.19565203 0.04347823 0.21739188]\n",
      "w236 [0.02298851 0.         0.97701149 0.         0.        ]\n",
      "w196 [0.         0.         0.63636364 0.         0.36363636]\n",
      "w196 [0. 0. 1. 0. 0.]\n",
      "w114 [0.27272727 0.         0.54545455 0.         0.18181818]\n",
      "w114 [1.94322009e-39 4.34782609e-02 9.13043478e-01 0.00000000e+00\n",
      " 4.34782609e-02]\n",
      "w824 [0.42105263 0.         0.36842105 0.         0.21052632]\n",
      "w824 [0.02325581 0.02325581 0.95348837 0.         0.        ]\n",
      "w450 [0.66666667 0.         0.16666667 0.         0.16666667]\n",
      "w450 [0.0212766  0.04255319 0.93617021 0.         0.        ]\n",
      "w692 [0.36363636 0.         0.36363636 0.         0.27272727]\n",
      "w692 [0.         0.04545455 0.90909091 0.04545455 0.        ]\n",
      "w478 [0.67391255 0.         0.19565203 0.04347823 0.08695719]\n",
      "w478 [0.02352941 0.         0.96470588 0.01176471 0.        ]\n",
      "w452 [0.72727273 0.         0.27272727 0.         0.        ]\n",
      "w452 [0.04545455 0.         0.95454545 0.         0.        ]\n",
      "w70 [0.36363636 0.         0.36363636 0.         0.27272727]\n",
      "w70 [0.04347826 0.         0.91304348 0.         0.04347826]\n",
      "w152 [0.63636364 0.         0.27272727 0.         0.09090909]\n",
      "w152 [0.04347826 0.04347826 0.91304348 0.         0.        ]\n",
      "w407 [0.27272727 0.         0.36363636 0.         0.36363636]\n",
      "w407 [0. 0. 1. 0. 0.]\n",
      "w219 [0.18181818 0.         0.63636364 0.         0.18181818]\n",
      "w219 [0.04347826 0.04347826 0.91304348 0.         0.        ]\n",
      "w527 [0.63636364 0.         0.09090909 0.09090909 0.18181818]\n",
      "w527 [0.04347826 0.04347826 0.91304348 0.         0.        ]\n",
      "w758 [0.45454545 0.         0.54545455 0.         0.        ]\n",
      "w758 [0.04347826 0.         0.95652174 0.         0.        ]\n",
      "w151 [0.18181818 0.         0.63636364 0.         0.18181818]\n",
      "w151 [0. 0. 1. 0. 0.]\n",
      "w45 [0.45454545 0.         0.36363636 0.         0.18181818]\n",
      "w45 [0.         0.04347826 0.95652174 0.         0.        ]\n",
      "w59 [0.4        0.         0.13333333 0.         0.46666667]\n",
      "w59 [0.0952381 0.        0.9047619 0.        0.       ]\n",
      "w124 [0.26315789 0.         0.57894737 0.         0.15789474]\n",
      "w124 [0.02272727 0.02272727 0.93181818 0.02272727 0.        ]\n",
      "w488 [0.54545455 0.         0.36363636 0.         0.09090909]\n",
      "w488 [0. 0. 1. 0. 0.]\n",
      "w731 [0.29411758 0.         0.52941188 0.05882352 0.11764703]\n",
      "w731 [0. 0. 1. 0. 0.]\n",
      "w737 [0.36363636 0.         0.63636364 0.         0.        ]\n",
      "w737 [0. 0. 1. 0. 0.]\n",
      "w695 [0.45454545 0.         0.18181818 0.         0.36363636]\n",
      "w695 [0.08695652 0.08695652 0.7826087  0.04347826 0.        ]\n",
      "w370 [0.18181818 0.         0.63636364 0.         0.18181818]\n",
      "w370 [0.         0.         0.95652174 0.         0.04347826]\n",
      "w768 [0.45454545 0.         0.45454545 0.         0.09090909]\n",
      "w768 [0.04347826 0.04347826 0.91304348 0.         0.        ]\n",
      "w35 [0.         0.         0.81818182 0.         0.18181818]\n",
      "w35 [0.         0.08695652 0.91304348 0.         0.        ]\n",
      "w765 [0.61111111 0.         0.16666667 0.05555556 0.16666667]\n",
      "w765 [0.05769231 0.         0.90384615 0.01923077 0.01923077]\n",
      "w235 [0.54545455 0.         0.27272727 0.09090909 0.09090909]\n",
      "w235 [0.         0.04347826 0.86956522 0.         0.08695652]\n",
      "w730 [0.35 0.   0.3  0.   0.35]\n",
      "w730 [0.02222222 0.02222222 0.93333333 0.         0.02222222]\n",
      "w107 [0.36363636 0.         0.         0.         0.63636364]\n",
      "w107 [1.94322009e-39 8.69565217e-02 8.69565217e-01 0.00000000e+00\n",
      " 4.34782609e-02]\n",
      "w389 [0.36363636 0.         0.27272727 0.         0.36363636]\n",
      "w389 [0.04347826 0.         0.95652174 0.         0.        ]\n",
      "w474 [0.36363636 0.         0.45454545 0.         0.18181818]\n",
      "w474 [0. 0. 1. 0. 0.]\n",
      "w101 [0.18181818 0.         0.63636364 0.         0.18181818]\n",
      "w101 [0.04347826 0.         0.95652174 0.         0.        ]\n",
      "w680 [0.64102564 0.         0.23076923 0.         0.12820513]\n",
      "w680 [0.03370787 0.         0.96629213 0.         0.        ]\n",
      "w365 [0.81818182 0.         0.         0.         0.18181818]\n",
      "w365 [0.04347826 0.04347826 0.91304348 0.         0.        ]\n",
      "w492 [0.45714286 0.         0.31428571 0.         0.22857143]\n",
      "w492 [0.01428571 0.01428571 0.97142857 0.         0.        ]\n",
      "w502 [0.6        0.         0.26666667 0.         0.13333333]\n",
      "w502 [0.02380952 0.02380952 0.95238095 0.         0.        ]\n",
      "w74 [0.8 0.  0.  0.  0.2]\n",
      "w74 [0.0952381  0.         0.85714286 0.         0.04761905]\n",
      "w171 [0.42307692 0.         0.46153846 0.         0.11538462]\n",
      "w171 [0.         0.         0.98507463 0.         0.01492537]\n",
      "Label accuracy is 0.7840565085771948\n",
      "--------------------------------------------------\n",
      "Data has 53 features\n",
      "Iter 00, logit: -32.792874\n",
      "Iter 10, logit: -27.471995\n",
      "Iter 20, logit: -27.392923\n",
      "Iter 30, logit: -27.322565\n",
      "Iter 40, logit: -27.260327\n",
      "(991, 53)\n",
      "Classifier train accuracy is 0.7013118062563067\n",
      "Label accuracy is 0.7840565085771948\n",
      "--------------------------------------------------\n",
      "Data has 53 features\n",
      "Iter 00, logit: -1.429299\n",
      "Average Raykar weight is 0.0\n",
      "Iter 10, logit: -1.403919\n",
      "Average Raykar weight is 0.0\n",
      "Iter 20, logit: -1.403762\n",
      "Average Raykar weight is 0.0\n",
      "Iter 30, logit: -1.403762\n",
      "Average Raykar weight is 0.0\n",
      "Iter 40, logit: -1.403762\n",
      "Average Raykar weight is 0.0\n",
      "Average Raykar weight is 0.0\n",
      "Classifier train accuracy is 0.7043390514631686\n",
      "Label accuracy is 0.7840565085771948\n",
      "--------------------------------------------------\n",
      "3\n",
      "[('DS', 0.7840565085771948), ('Raykar', 0.7840565085771948), ('Raykar+DS', 0.7840565085771948)]\n"
     ]
    },
    {
     "data": {
      "image/png": "[encoded data removed]",
      "text/plain": [
       "<Figure size 432x288 with 1 Axes>"
      ]
     },
     "metadata": {},
     "output_type": "display_data"
    }
   ],
   "source": [
    "reload_all()\n",
    "# np.seterr(all='raise')\n",
    "toloka_methods, toloka_points, advantages_matrix = compare_methods(toloka_data, max_iter=50, lr=100)"
   ]
  },
  {
   "cell_type": "code",
   "execution_count": 8,
   "metadata": {},
   "outputs": [
    {
     "name": "stdout",
     "output_type": "stream",
     "text": [
      "Number of data points: 991\n"
     ]
    },
    {
     "data": {
      "image/png": "[encoded data removed]",
      "text/plain": [
       "<Figure size 864x576 with 2 Axes>"
      ]
     },
     "metadata": {},
     "output_type": "display_data"
    }
   ],
   "source": [
    "buckets, confidences = build_grad_hist(toloka_data, toloka_methods, toloka_points, 'Toloka', 100)\n",
    "condidence_toloka = get_confidence(buckets[0], confidences[0])"
   ]
  },
  {
   "cell_type": "code",
   "execution_count": null,
   "metadata": {},
   "outputs": [],
   "source": []
  },
  {
   "cell_type": "code",
   "execution_count": null,
   "metadata": {},
   "outputs": [],
   "source": [
    "reload_all()\n",
    "\n",
    "toloka_methods, toloka_points, advantages_matrix = compare_methods(toloka_data, max_iter=50, lr=100,\n",
    "                                                                        confidence_estimator=condidence_toloka)"
   ]
  },
  {
   "cell_type": "code",
   "execution_count": 10,
   "metadata": {},
   "outputs": [
    {
     "data": {
      "text/html": [
       "<div>\n",
       "<style scoped>\n",
       "    .dataframe tbody tr th:only-of-type {\n",
       "        vertical-align: middle;\n",
       "    }\n",
       "\n",
       "    .dataframe tbody tr th {\n",
       "        vertical-align: top;\n",
       "    }\n",
       "\n",
       "    .dataframe thead th {\n",
       "        text-align: right;\n",
       "    }\n",
       "</style>\n",
       "<table border=\"1\" class=\"dataframe\">\n",
       "  <thead>\n",
       "    <tr style=\"text-align: right;\">\n",
       "      <th></th>\n",
       "      <th>task</th>\n",
       "      <th>mu_r</th>\n",
       "      <th>classifier_r</th>\n",
       "      <th>grad_r</th>\n",
       "      <th>conf_mx_r</th>\n",
       "      <th>mu_rds</th>\n",
       "      <th>classifier_rds</th>\n",
       "      <th>grad_rds</th>\n",
       "      <th>conf_mx_rds</th>\n",
       "      <th>likelihood_rds</th>\n",
       "      <th>index</th>\n",
       "      <th>mu_ds</th>\n",
       "    </tr>\n",
       "  </thead>\n",
       "  <tbody>\n",
       "    <tr>\n",
       "      <th>0</th>\n",
       "      <td>t0</td>\n",
       "      <td>[0.0, 1.0, 0.0, 0.0, 0.0]</td>\n",
       "      <td>[0.216, 0.253, 0.165, 0.171, 0.195]</td>\n",
       "      <td>3.43214</td>\n",
       "      <td>[-inf, -21.13, -inf, -inf, -inf]</td>\n",
       "      <td>[0.0, 1.0, 0.0, 0.0, 0.0]</td>\n",
       "      <td>[0.215, 0.253, 0.166, 0.172, 0.194]</td>\n",
       "      <td>3.43535</td>\n",
       "      <td>[0.0, 0.0, 0.0, 0.0, 0.0]</td>\n",
       "      <td>[0.0, 1.0]</td>\n",
       "      <td>0</td>\n",
       "      <td>[0.0, 1.0, 0.0, 0.0, 0.0]</td>\n",
       "    </tr>\n",
       "    <tr>\n",
       "      <th>1</th>\n",
       "      <td>t1</td>\n",
       "      <td>[0.0, 0.0, 1.0, 0.0, 0.0]</td>\n",
       "      <td>[0.185, 0.179, 0.305, 0.155, 0.176]</td>\n",
       "      <td>3.22330</td>\n",
       "      <td>[-inf, -inf, -5.446, -inf, -inf]</td>\n",
       "      <td>[0.0, 0.0, 1.0, 0.0, 0.0]</td>\n",
       "      <td>[0.184, 0.179, 0.307, 0.154, 0.177]</td>\n",
       "      <td>3.21523</td>\n",
       "      <td>[0.0, 0.0, 0.004, 0.0, 0.0]</td>\n",
       "      <td>[0.0, 1.0]</td>\n",
       "      <td>1</td>\n",
       "      <td>[0.0, 0.0, 1.0, 0.0, 0.0]</td>\n",
       "    </tr>\n",
       "    <tr>\n",
       "      <th>2</th>\n",
       "      <td>t10</td>\n",
       "      <td>[0.0, 0.0, 1.0, 0.0, 0.0]</td>\n",
       "      <td>[0.124, 0.124, 0.459, 0.151, 0.142]</td>\n",
       "      <td>2.54126</td>\n",
       "      <td>[-inf, -inf, -3.475, -inf, -inf]</td>\n",
       "      <td>[0.0, 0.0, 1.0, 0.0, 0.0]</td>\n",
       "      <td>[0.123, 0.125, 0.459, 0.151, 0.142]</td>\n",
       "      <td>2.54123</td>\n",
       "      <td>[0.0, 0.0, 0.029, 0.0, 0.0]</td>\n",
       "      <td>[0.0, 1.0]</td>\n",
       "      <td>2</td>\n",
       "      <td>[0.0, 0.0, 1.0, 0.0, 0.0]</td>\n",
       "    </tr>\n",
       "    <tr>\n",
       "      <th>3</th>\n",
       "      <td>t100</td>\n",
       "      <td>[0.0, 0.0, 1.0, 0.0, 0.0]</td>\n",
       "      <td>[0.228, 0.199, 0.179, 0.193, 0.201]</td>\n",
       "      <td>3.75882</td>\n",
       "      <td>[-inf, -inf, -44.979, -inf, -inf]</td>\n",
       "      <td>[0.0, 0.0, 1.0, 0.0, 0.0]</td>\n",
       "      <td>[0.228, 0.197, 0.18, 0.191, 0.203]</td>\n",
       "      <td>3.75296</td>\n",
       "      <td>[0.0, 0.0, 0.0, 0.0, 0.0]</td>\n",
       "      <td>[0.0, 1.0]</td>\n",
       "      <td>3</td>\n",
       "      <td>[0.0, 0.0, 1.0, 0.0, 0.0]</td>\n",
       "    </tr>\n",
       "    <tr>\n",
       "      <th>4</th>\n",
       "      <td>t1000</td>\n",
       "      <td>[1.0, 0.0, 0.0, 0.0, 0.0]</td>\n",
       "      <td>[0.184, 0.171, 0.272, 0.169, 0.203]</td>\n",
       "      <td>3.77568</td>\n",
       "      <td>[-32.948, -inf, -inf, -inf, -inf]</td>\n",
       "      <td>[1.0, 0.0, 0.0, 0.0, 0.0]</td>\n",
       "      <td>[0.186, 0.172, 0.269, 0.168, 0.205]</td>\n",
       "      <td>3.76889</td>\n",
       "      <td>[0.0, 0.0, 0.0, 0.0, 0.0]</td>\n",
       "      <td>[0.0, 1.0]</td>\n",
       "      <td>4</td>\n",
       "      <td>[1.0, 0.0, 0.0, 0.0, 0.0]</td>\n",
       "    </tr>\n",
       "    <tr>\n",
       "      <th>...</th>\n",
       "      <td>...</td>\n",
       "      <td>...</td>\n",
       "      <td>...</td>\n",
       "      <td>...</td>\n",
       "      <td>...</td>\n",
       "      <td>...</td>\n",
       "      <td>...</td>\n",
       "      <td>...</td>\n",
       "      <td>...</td>\n",
       "      <td>...</td>\n",
       "      <td>...</td>\n",
       "      <td>...</td>\n",
       "    </tr>\n",
       "    <tr>\n",
       "      <th>986</th>\n",
       "      <td>t995</td>\n",
       "      <td>[1.0, 0.0, 0.0, 0.0, 0.0]</td>\n",
       "      <td>[0.228, 0.236, 0.162, 0.161, 0.213]</td>\n",
       "      <td>3.63793</td>\n",
       "      <td>[-35.142, -inf, -inf, -inf, -inf]</td>\n",
       "      <td>[1.0, 0.0, 0.0, 0.0, 0.0]</td>\n",
       "      <td>[0.228, 0.235, 0.164, 0.16, 0.214]</td>\n",
       "      <td>3.64082</td>\n",
       "      <td>[0.0, 0.0, 0.0, 0.0, 0.0]</td>\n",
       "      <td>[0.0, 1.0]</td>\n",
       "      <td>986</td>\n",
       "      <td>[1.0, 0.0, 0.0, 0.0, 0.0]</td>\n",
       "    </tr>\n",
       "    <tr>\n",
       "      <th>987</th>\n",
       "      <td>t996</td>\n",
       "      <td>[0.0, 1.0, 0.0, 0.0, 0.0]</td>\n",
       "      <td>[0.172, 0.234, 0.258, 0.151, 0.185]</td>\n",
       "      <td>3.55126</td>\n",
       "      <td>[-inf, -21.466, -inf, -inf, -inf]</td>\n",
       "      <td>[0.0, 1.0, 0.0, 0.0, 0.0]</td>\n",
       "      <td>[0.172, 0.234, 0.258, 0.152, 0.184]</td>\n",
       "      <td>3.55422</td>\n",
       "      <td>[0.0, 0.0, 0.0, 0.0, 0.0]</td>\n",
       "      <td>[0.0, 1.0]</td>\n",
       "      <td>987</td>\n",
       "      <td>[0.0, 1.0, 0.0, 0.0, 0.0]</td>\n",
       "    </tr>\n",
       "    <tr>\n",
       "      <th>988</th>\n",
       "      <td>t997</td>\n",
       "      <td>[0.0, 0.0, 0.0, 0.0, 1.0]</td>\n",
       "      <td>[0.234, 0.158, 0.256, 0.194, 0.158]</td>\n",
       "      <td>3.84535</td>\n",
       "      <td>[-inf, -inf, -inf, -inf, -20.846]</td>\n",
       "      <td>[0.0, 0.0, 0.0, 0.0, 1.0]</td>\n",
       "      <td>[0.235, 0.155, 0.258, 0.195, 0.157]</td>\n",
       "      <td>3.85016</td>\n",
       "      <td>[0.0, 0.0, 0.0, 0.0, 0.0]</td>\n",
       "      <td>[0.0, 1.0]</td>\n",
       "      <td>988</td>\n",
       "      <td>[0.0, 0.0, 0.0, 0.0, 1.0]</td>\n",
       "    </tr>\n",
       "    <tr>\n",
       "      <th>989</th>\n",
       "      <td>t998</td>\n",
       "      <td>[1.0, 0.0, 0.0, 0.0, 0.0]</td>\n",
       "      <td>[0.172, 0.154, 0.292, 0.195, 0.188]</td>\n",
       "      <td>3.82230</td>\n",
       "      <td>[-39.621, -inf, -inf, -inf, -inf]</td>\n",
       "      <td>[1.0, 0.0, 0.0, 0.0, 0.0]</td>\n",
       "      <td>[0.174, 0.154, 0.289, 0.198, 0.185]</td>\n",
       "      <td>3.81177</td>\n",
       "      <td>[0.0, 0.0, 0.0, 0.0, 0.0]</td>\n",
       "      <td>[0.0, 1.0]</td>\n",
       "      <td>989</td>\n",
       "      <td>[1.0, 0.0, 0.0, 0.0, 0.0]</td>\n",
       "    </tr>\n",
       "    <tr>\n",
       "      <th>990</th>\n",
       "      <td>t999</td>\n",
       "      <td>[0.0, 0.0, 1.0, 0.0, 0.0]</td>\n",
       "      <td>[0.164, 0.18, 0.365, 0.141, 0.15]</td>\n",
       "      <td>2.94081</td>\n",
       "      <td>[-inf, -inf, -3.475, -inf, -inf]</td>\n",
       "      <td>[0.0, 0.0, 1.0, 0.0, 0.0]</td>\n",
       "      <td>[0.164, 0.179, 0.366, 0.142, 0.149]</td>\n",
       "      <td>2.93751</td>\n",
       "      <td>[0.0, 0.0, 0.029, 0.0, 0.0]</td>\n",
       "      <td>[0.0, 1.0]</td>\n",
       "      <td>990</td>\n",
       "      <td>[0.0, 0.0, 1.0, 0.0, 0.0]</td>\n",
       "    </tr>\n",
       "  </tbody>\n",
       "</table>\n",
       "<p>991 rows × 12 columns</p>\n",
       "</div>"
      ],
      "text/plain": [
       "      task                       mu_r                         classifier_r  \\\n",
       "0       t0  [0.0, 1.0, 0.0, 0.0, 0.0]  [0.216, 0.253, 0.165, 0.171, 0.195]   \n",
       "1       t1  [0.0, 0.0, 1.0, 0.0, 0.0]  [0.185, 0.179, 0.305, 0.155, 0.176]   \n",
       "2      t10  [0.0, 0.0, 1.0, 0.0, 0.0]  [0.124, 0.124, 0.459, 0.151, 0.142]   \n",
       "3     t100  [0.0, 0.0, 1.0, 0.0, 0.0]  [0.228, 0.199, 0.179, 0.193, 0.201]   \n",
       "4    t1000  [1.0, 0.0, 0.0, 0.0, 0.0]  [0.184, 0.171, 0.272, 0.169, 0.203]   \n",
       "..     ...                        ...                                  ...   \n",
       "986   t995  [1.0, 0.0, 0.0, 0.0, 0.0]  [0.228, 0.236, 0.162, 0.161, 0.213]   \n",
       "987   t996  [0.0, 1.0, 0.0, 0.0, 0.0]  [0.172, 0.234, 0.258, 0.151, 0.185]   \n",
       "988   t997  [0.0, 0.0, 0.0, 0.0, 1.0]  [0.234, 0.158, 0.256, 0.194, 0.158]   \n",
       "989   t998  [1.0, 0.0, 0.0, 0.0, 0.0]  [0.172, 0.154, 0.292, 0.195, 0.188]   \n",
       "990   t999  [0.0, 0.0, 1.0, 0.0, 0.0]    [0.164, 0.18, 0.365, 0.141, 0.15]   \n",
       "\n",
       "      grad_r                          conf_mx_r                     mu_rds  \\\n",
       "0    3.43214   [-inf, -21.13, -inf, -inf, -inf]  [0.0, 1.0, 0.0, 0.0, 0.0]   \n",
       "1    3.22330   [-inf, -inf, -5.446, -inf, -inf]  [0.0, 0.0, 1.0, 0.0, 0.0]   \n",
       "2    2.54126   [-inf, -inf, -3.475, -inf, -inf]  [0.0, 0.0, 1.0, 0.0, 0.0]   \n",
       "3    3.75882  [-inf, -inf, -44.979, -inf, -inf]  [0.0, 0.0, 1.0, 0.0, 0.0]   \n",
       "4    3.77568  [-32.948, -inf, -inf, -inf, -inf]  [1.0, 0.0, 0.0, 0.0, 0.0]   \n",
       "..       ...                                ...                        ...   \n",
       "986  3.63793  [-35.142, -inf, -inf, -inf, -inf]  [1.0, 0.0, 0.0, 0.0, 0.0]   \n",
       "987  3.55126  [-inf, -21.466, -inf, -inf, -inf]  [0.0, 1.0, 0.0, 0.0, 0.0]   \n",
       "988  3.84535  [-inf, -inf, -inf, -inf, -20.846]  [0.0, 0.0, 0.0, 0.0, 1.0]   \n",
       "989  3.82230  [-39.621, -inf, -inf, -inf, -inf]  [1.0, 0.0, 0.0, 0.0, 0.0]   \n",
       "990  2.94081   [-inf, -inf, -3.475, -inf, -inf]  [0.0, 0.0, 1.0, 0.0, 0.0]   \n",
       "\n",
       "                          classifier_rds  grad_rds  \\\n",
       "0    [0.215, 0.253, 0.166, 0.172, 0.194]   3.43535   \n",
       "1    [0.184, 0.179, 0.307, 0.154, 0.177]   3.21523   \n",
       "2    [0.123, 0.125, 0.459, 0.151, 0.142]   2.54123   \n",
       "3     [0.228, 0.197, 0.18, 0.191, 0.203]   3.75296   \n",
       "4    [0.186, 0.172, 0.269, 0.168, 0.205]   3.76889   \n",
       "..                                   ...       ...   \n",
       "986   [0.228, 0.235, 0.164, 0.16, 0.214]   3.64082   \n",
       "987  [0.172, 0.234, 0.258, 0.152, 0.184]   3.55422   \n",
       "988  [0.235, 0.155, 0.258, 0.195, 0.157]   3.85016   \n",
       "989  [0.174, 0.154, 0.289, 0.198, 0.185]   3.81177   \n",
       "990  [0.164, 0.179, 0.366, 0.142, 0.149]   2.93751   \n",
       "\n",
       "                     conf_mx_rds likelihood_rds  index  \\\n",
       "0      [0.0, 0.0, 0.0, 0.0, 0.0]     [0.0, 1.0]      0   \n",
       "1    [0.0, 0.0, 0.004, 0.0, 0.0]     [0.0, 1.0]      1   \n",
       "2    [0.0, 0.0, 0.029, 0.0, 0.0]     [0.0, 1.0]      2   \n",
       "3      [0.0, 0.0, 0.0, 0.0, 0.0]     [0.0, 1.0]      3   \n",
       "4      [0.0, 0.0, 0.0, 0.0, 0.0]     [0.0, 1.0]      4   \n",
       "..                           ...            ...    ...   \n",
       "986    [0.0, 0.0, 0.0, 0.0, 0.0]     [0.0, 1.0]    986   \n",
       "987    [0.0, 0.0, 0.0, 0.0, 0.0]     [0.0, 1.0]    987   \n",
       "988    [0.0, 0.0, 0.0, 0.0, 0.0]     [0.0, 1.0]    988   \n",
       "989    [0.0, 0.0, 0.0, 0.0, 0.0]     [0.0, 1.0]    989   \n",
       "990  [0.0, 0.0, 0.029, 0.0, 0.0]     [0.0, 1.0]    990   \n",
       "\n",
       "                         mu_ds  \n",
       "0    [0.0, 1.0, 0.0, 0.0, 0.0]  \n",
       "1    [0.0, 0.0, 1.0, 0.0, 0.0]  \n",
       "2    [0.0, 0.0, 1.0, 0.0, 0.0]  \n",
       "3    [0.0, 0.0, 1.0, 0.0, 0.0]  \n",
       "4    [1.0, 0.0, 0.0, 0.0, 0.0]  \n",
       "..                         ...  \n",
       "986  [1.0, 0.0, 0.0, 0.0, 0.0]  \n",
       "987  [0.0, 1.0, 0.0, 0.0, 0.0]  \n",
       "988  [0.0, 0.0, 0.0, 0.0, 1.0]  \n",
       "989  [1.0, 0.0, 0.0, 0.0, 0.0]  \n",
       "990  [0.0, 0.0, 1.0, 0.0, 0.0]  \n",
       "\n",
       "[991 rows x 12 columns]"
      ]
     },
     "execution_count": 10,
     "metadata": {},
     "output_type": "execute_result"
    }
   ],
   "source": [
    "# toloka_points[toloka_points.task.isin(advantages_matrix[2][0])]\n",
    "toloka_points"
   ]
  },
  {
   "cell_type": "code",
   "execution_count": 20,
   "metadata": {},
   "outputs": [
    {
     "name": "stdout",
     "output_type": "stream",
     "text": [
      "Annotation(annotator='w200', task='t998', value='3')\n",
      "Annotation(annotator='w448', task='t998', value='3')\n",
      "Annotation(annotator='w485', task='t998', value='1')\n",
      "Annotation(annotator='w621', task='t998', value='1')\n",
      "Annotation(annotator='w761', task='t998', value='3')\n",
      "Annotation(annotator='w417', task='t998', value='3')\n",
      "Annotation(annotator='w827', task='t998', value='3')\n",
      "Annotation(annotator='w184', task='t998', value='3')\n",
      "Annotation(annotator='w178', task='t998', value='1')\n",
      "Annotation(annotator='w236', task='t998', value='3')\n",
      "Annotation(annotator='w196', task='t998', value='3')\n",
      "Annotation(annotator='w114', task='t998', value='3')\n",
      "Annotation(annotator='w824', task='t998', value='3')\n",
      "Annotation(annotator='w450', task='t998', value='1')\n",
      "Annotation(annotator='w692', task='t998', value='1')\n",
      "Annotation(annotator='w478', task='t998', value='3')\n",
      "Annotation(annotator='w452', task='t998', value='3')\n",
      "Annotation(annotator='w70', task='t998', value='3')\n",
      "Annotation(annotator='w152', task='t998', value='3')\n",
      "Annotation(annotator='w407', task='t998', value='3')\n",
      "Annotation(annotator='w219', task='t998', value='3')\n",
      "Annotation(annotator='w527', task='t998', value='1')\n",
      "Annotation(annotator='w758', task='t998', value='3')\n",
      "Annotation(annotator='w151', task='t998', value='3')\n",
      "Annotation(annotator='w45', task='t998', value='3')\n",
      "Annotation(annotator='w59', task='t998', value='1')\n",
      "Annotation(annotator='w124', task='t998', value='3')\n",
      "Annotation(annotator='w488', task='t998', value='1')\n",
      "Annotation(annotator='w731', task='t998', value='3')\n",
      "Annotation(annotator='w737', task='t998', value='3')\n",
      "Annotation(annotator='w695', task='t998', value='1')\n",
      "Annotation(annotator='w370', task='t998', value='3')\n",
      "Annotation(annotator='w768', task='t998', value='3')\n",
      "Annotation(annotator='w35', task='t998', value='3')\n",
      "Annotation(annotator='w765', task='t998', value='1')\n",
      "Annotation(annotator='w235', task='t998', value='3')\n",
      "Annotation(annotator='w730', task='t998', value='3')\n",
      "Annotation(annotator='w107', task='t998', value='1')\n",
      "Annotation(annotator='w389', task='t998', value='3')\n",
      "Annotation(annotator='w474', task='t998', value='1')\n",
      "Annotation(annotator='w101', task='t998', value='3')\n",
      "Annotation(annotator='w680', task='t998', value='3')\n",
      "Annotation(annotator='w365', task='t998', value='1')\n",
      "Annotation(annotator='w492', task='t998', value='1')\n",
      "Annotation(annotator='w502', task='t998', value='3')\n",
      "Annotation(annotator='w74', task='t998', value='1')\n",
      "Annotation(annotator='w171', task='t998', value='1')\n"
     ]
    },
    {
     "data": {
      "image/png": "[encoded data removed]",
      "text/plain": [
       "<Figure size 720x432 with 1 Axes>"
      ]
     },
     "metadata": {},
     "output_type": "display_data"
    }
   ],
   "source": [
    "plots_for_point(toloka_points, toloka_data, toloka_methods, 989)"
   ]
  },
  {
   "cell_type": "code",
   "execution_count": 27,
   "metadata": {
    "scrolled": false
   },
   "outputs": [
    {
     "name": "stdout",
     "output_type": "stream",
     "text": [
      "Iter 00, logit: -2.856371\n",
      "Iter 10, logit: -2.699386\n",
      "Iter 20, logit: -2.697648\n",
      "Iter 30, logit: -2.697473\n",
      "Label accuracy is 0.8152023388213572\n",
      "--------------------------------------------------\n",
      "Data has 57 features\n",
      "Iter 00, logit: -2.849777\n",
      "Iter 10, logit: -2.552889\n",
      "Iter 20, logit: -2.478285\n",
      "Iter 30, logit: -2.436513\n",
      "Iter 40, logit: -2.410134\n",
      "(6499, 57)\n",
      "Classifier train accuracy is 0.8601323280504694\n",
      "(1625, 57)\n",
      "Classifier test accuracy is 0.7803076923076923\n",
      "Label accuracy is 0.9032158793660563\n",
      "--------------------------------------------------\n",
      "Data has 57 features\n",
      "Iter 00, logit: -0.537139\n",
      "Average Raykar weight is 0.0\n",
      "Iter 10, logit: -0.506027\n",
      "Average Raykar weight is 0.0\n",
      "Iter 20, logit: -0.505479\n",
      "Average Raykar weight is 0.0\n",
      "Iter 30, logit: -0.505299\n",
      "Average Raykar weight is 0.0\n",
      "Iter 40, logit: -0.505159\n",
      "Average Raykar weight is 0.0\n",
      "Average Raykar weight is 0.0\n",
      "Classifier train accuracy is 0.8593629789198338\n",
      "Classifier test accuracy is 0.7716923076923077\n",
      "Label accuracy is 0.8147407293429758\n",
      "--------------------------------------------------\n",
      "3\n",
      "[('DS', 0.8152023388213572), ('Raykar', 0.9032158793660563), ('Raykar+DS', 0.8147407293429758)]\n",
      "DS\n",
      "[0.76577127 0.77083762 0.69480184 0.521012   0.41699367]\n",
      "[0.83852674 0.81399008 0.7339277  0.5134967  0.41667347]\n",
      "Raykar\n",
      "[0.78703427 0.80092679 0.69730761 0.51852264 0.40000984]\n",
      "[0.84353117 0.82951005 0.72773224 0.51091817 0.40379746]\n",
      "Raykar+DS\n",
      "[0.76644216 0.77139415 0.69523075 0.5210575  0.41686713]\n",
      "[0.83805834 0.81345454 0.73355437 0.51347552 0.41685322]\n"
     ]
    },
    {
     "data": {
      "image/png": "[encoded data removed]",
      "text/plain": [
       "<Figure size 432x288 with 1 Axes>"
      ]
     },
     "metadata": {},
     "output_type": "display_data"
    }
   ],
   "source": [
    "reload_all()\n",
    "\n",
    "mushrooms_methods, mushroom_points, advantages_matrix = compare_methods(mushrooms_data, max_iter=50)\n",
    "print_conf(mushrooms_methods)"
   ]
  },
  {
   "cell_type": "code",
   "execution_count": null,
   "metadata": {},
   "outputs": [],
   "source": [
    "# mushroom_points[mushroom_points.task.isin(advantages_matrix[1][2])][:20]"
   ]
  },
  {
   "cell_type": "code",
   "execution_count": null,
   "metadata": {},
   "outputs": [],
   "source": [
    "buckets, confidences = build_grad_hist(mushrooms_data, mushrooms_methods, mushroom_points, 'Mushrooms', 400)\n",
    "condidence_mushrooms = get_confidence(buckets[0], confidences[0])"
   ]
  },
  {
   "cell_type": "code",
   "execution_count": null,
   "metadata": {
    "scrolled": false
   },
   "outputs": [],
   "source": [
    "reload_all()\n",
    "\n",
    "mushrooms_methods, mushroom_points, advantages_matrix = compare_methods(mushrooms_data, max_iter=50, \n",
    "                                                                        confidence_estimator=condidence_mushrooms)\n",
    "print_conf(mushrooms_methods)"
   ]
  },
  {
   "cell_type": "code",
   "execution_count": null,
   "metadata": {},
   "outputs": [],
   "source": [
    "# mushroom_points[mushroom_points.task.isin(advantages_matrix[2][1])]\n",
    "mushroom_points[mushroom_points.grad_rds > 3]"
   ]
  },
  {
   "cell_type": "code",
   "execution_count": null,
   "metadata": {},
   "outputs": [],
   "source": [
    "plots_for_point(mushroom_points, mushrooms_data, mushrooms_methods, 33)"
   ]
  },
  {
   "cell_type": "code",
   "execution_count": null,
   "metadata": {
    "cellId": "d2au6izx4hrb56ijjen7sw",
    "scrolled": true
   },
   "outputs": [],
   "source": [
    "reload_all()\n",
    "\n",
    "ionosphere_methods, ionosphere_points, advantages_matrix = compare_methods(ionosphere_data, max_iter=150)\n",
    "print_conf(ionosphere_methods)"
   ]
  },
  {
   "cell_type": "code",
   "execution_count": null,
   "metadata": {
    "cellId": "sx6f3q7dvviifnix54vw5"
   },
   "outputs": [],
   "source": [
    "ionosphere_points[ionosphere_points.task.isin(advantages_matrix[1][2])]"
   ]
  },
  {
   "cell_type": "code",
   "execution_count": null,
   "metadata": {},
   "outputs": [],
   "source": [
    "build_grad_hist(ionosphere_data, ionosphere_methods, ionosphere_points, 'Ionosphere', 30)"
   ]
  },
  {
   "cell_type": "code",
   "execution_count": null,
   "metadata": {},
   "outputs": [],
   "source": [
    "plots_for_point(ionosphere_points, ionosphere_data, ionosphere_methods, 13)"
   ]
  },
  {
   "cell_type": "code",
   "execution_count": 21,
   "metadata": {
    "cellId": "4ddnkkhjda50urr7842wkrk"
   },
   "outputs": [
    {
     "name": "stdout",
     "output_type": "stream",
     "text": [
      "Iter 00, logit: -3.010473\n",
      "Iter 10, logit: -2.779897\n",
      "Label accuracy is 0.9147829565913183\n",
      "--------------------------------------------------\n",
      "Data has 600 features\n",
      "Iter 00, logit: -2.990713\n",
      "Iter 10, logit: -2.647791\n",
      "(4999, 600)\n",
      "Classifier train accuracy is 0.7091418283656732\n",
      "(5428, 600)\n",
      "Classifier test accuracy is 0.6352247605011054\n",
      "Label accuracy is 0.9181836367273455\n",
      "--------------------------------------------------\n",
      "Data has 600 features\n",
      "Iter 00, logit: -0.538373\n",
      "Average Raykar weight is 0.0\n",
      "Iter 10, logit: -0.450310\n",
      "Average Raykar weight is 0.0\n",
      "Average Raykar weight is 0.0\n",
      "Classifier train accuracy is 0.7085417083416683\n",
      "Classifier test accuracy is 0.6381724392041267\n",
      "Label accuracy is 0.9147829565913183\n",
      "--------------------------------------------------\n",
      "3\n",
      "[('DS', 0.9147829565913183), ('Raykar', 0.9181836367273455), ('Raykar+DS', 0.9147829565913183)]\n"
     ]
    },
    {
     "data": {
      "image/png": "[encoded data removed]",
      "text/plain": [
       "<Figure size 432x288 with 1 Axes>"
      ]
     },
     "metadata": {},
     "output_type": "display_data"
    }
   ],
   "source": [
    "reload(ds), reload(r), reload(rds)\n",
    "\n",
    "sentiment_methods, sentiment_points, advantages_matrix = compare_methods(sentiment_data, max_iter=15)"
   ]
  },
  {
   "cell_type": "code",
   "execution_count": null,
   "metadata": {},
   "outputs": [],
   "source": [
    "buckets, confidences = build_grad_hist(sentiment_data, sentiment_methods, sentiment_points, 'Sentiment', 300)\n",
    "condidence_sentiment = get_confidence(buckets[0], confidences[0])"
   ]
  },
  {
   "cell_type": "code",
   "execution_count": null,
   "metadata": {},
   "outputs": [],
   "source": [
    "sentiment_methods, sentiment_points, advantages_matrix = compare_methods(sentiment_data, max_iter=15, \n",
    "                                                                         confidence_estimator=condidence_sentiment)"
   ]
  },
  {
   "cell_type": "code",
   "execution_count": 22,
   "metadata": {},
   "outputs": [
    {
     "data": {
      "text/html": [
       "<div>\n",
       "<style scoped>\n",
       "    .dataframe tbody tr th:only-of-type {\n",
       "        vertical-align: middle;\n",
       "    }\n",
       "\n",
       "    .dataframe tbody tr th {\n",
       "        vertical-align: top;\n",
       "    }\n",
       "\n",
       "    .dataframe thead th {\n",
       "        text-align: right;\n",
       "    }\n",
       "</style>\n",
       "<table border=\"1\" class=\"dataframe\">\n",
       "  <thead>\n",
       "    <tr style=\"text-align: right;\">\n",
       "      <th></th>\n",
       "      <th>task</th>\n",
       "      <th>mu_r</th>\n",
       "      <th>classifier_r</th>\n",
       "      <th>grad_r</th>\n",
       "      <th>conf_mx_r</th>\n",
       "      <th>mu_rds</th>\n",
       "      <th>classifier_rds</th>\n",
       "      <th>grad_rds</th>\n",
       "      <th>conf_mx_rds</th>\n",
       "      <th>likelihood_rds</th>\n",
       "      <th>index</th>\n",
       "      <th>mu_ds</th>\n",
       "    </tr>\n",
       "  </thead>\n",
       "  <tbody>\n",
       "    <tr>\n",
       "      <th>0</th>\n",
       "      <td>2</td>\n",
       "      <td>[0.001, 0.999]</td>\n",
       "      <td>[0.058, 0.942]</td>\n",
       "      <td>0.18946</td>\n",
       "      <td>[-5.679, -1.631]</td>\n",
       "      <td>[0.017, 0.983]</td>\n",
       "      <td>[0.063, 0.937]</td>\n",
       "      <td>0.15297</td>\n",
       "      <td>[0.003, 0.199]</td>\n",
       "      <td>[0.0, 1.0]</td>\n",
       "      <td>0</td>\n",
       "      <td>[0.017, 0.983]</td>\n",
       "    </tr>\n",
       "    <tr>\n",
       "      <th>1</th>\n",
       "      <td>3</td>\n",
       "      <td>[0.999, 0.001]</td>\n",
       "      <td>[0.517, 0.483]</td>\n",
       "      <td>0.36849</td>\n",
       "      <td>[-2.503, -9.936]</td>\n",
       "      <td>[1.0, 0.0]</td>\n",
       "      <td>[0.521, 0.479]</td>\n",
       "      <td>0.36540</td>\n",
       "      <td>[0.082, 0.0]</td>\n",
       "      <td>[0.0, 1.0]</td>\n",
       "      <td>1</td>\n",
       "      <td>[1.0, 0.0]</td>\n",
       "    </tr>\n",
       "    <tr>\n",
       "      <th>2</th>\n",
       "      <td>4</td>\n",
       "      <td>[0.0, 1.0]</td>\n",
       "      <td>[0.407, 0.593]</td>\n",
       "      <td>0.73301</td>\n",
       "      <td>[-13.192, -0.455]</td>\n",
       "      <td>[0.0, 1.0]</td>\n",
       "      <td>[0.401, 0.599]</td>\n",
       "      <td>0.72318</td>\n",
       "      <td>[0.0, 0.631]</td>\n",
       "      <td>[0.0, 1.0]</td>\n",
       "      <td>2</td>\n",
       "      <td>[0.0, 1.0]</td>\n",
       "    </tr>\n",
       "    <tr>\n",
       "      <th>3</th>\n",
       "      <td>9</td>\n",
       "      <td>[0.003, 0.997]</td>\n",
       "      <td>[0.49, 0.51]</td>\n",
       "      <td>0.99234</td>\n",
       "      <td>[-8.517, -2.808]</td>\n",
       "      <td>[0.004, 0.996]</td>\n",
       "      <td>[0.478, 0.522]</td>\n",
       "      <td>0.96644</td>\n",
       "      <td>[0.0, 0.058]</td>\n",
       "      <td>[0.0, 1.0]</td>\n",
       "      <td>3</td>\n",
       "      <td>[0.004, 0.996]</td>\n",
       "    </tr>\n",
       "    <tr>\n",
       "      <th>4</th>\n",
       "      <td>11</td>\n",
       "      <td>[0.004, 0.996]</td>\n",
       "      <td>[0.431, 0.569]</td>\n",
       "      <td>0.69401</td>\n",
       "      <td>[-5.964, -0.698]</td>\n",
       "      <td>[0.006, 0.994]</td>\n",
       "      <td>[0.436, 0.564]</td>\n",
       "      <td>0.69898</td>\n",
       "      <td>[0.003, 0.5]</td>\n",
       "      <td>[0.0, 1.0]</td>\n",
       "      <td>4</td>\n",
       "      <td>[0.006, 0.994]</td>\n",
       "    </tr>\n",
       "    <tr>\n",
       "      <th>...</th>\n",
       "      <td>...</td>\n",
       "      <td>...</td>\n",
       "      <td>...</td>\n",
       "      <td>...</td>\n",
       "      <td>...</td>\n",
       "      <td>...</td>\n",
       "      <td>...</td>\n",
       "      <td>...</td>\n",
       "      <td>...</td>\n",
       "      <td>...</td>\n",
       "      <td>...</td>\n",
       "      <td>...</td>\n",
       "    </tr>\n",
       "    <tr>\n",
       "      <th>4994</th>\n",
       "      <td>10428</td>\n",
       "      <td>[1.0, 0.0]</td>\n",
       "      <td>[0.822, 0.178]</td>\n",
       "      <td>0.34731</td>\n",
       "      <td>[-0.764, -12.973]</td>\n",
       "      <td>[1.0, 0.0]</td>\n",
       "      <td>[0.808, 0.192]</td>\n",
       "      <td>0.37402</td>\n",
       "      <td>[0.456, 0.0]</td>\n",
       "      <td>[0.0, 1.0]</td>\n",
       "      <td>4994</td>\n",
       "      <td>[1.0, 0.0]</td>\n",
       "    </tr>\n",
       "    <tr>\n",
       "      <th>4995</th>\n",
       "      <td>10429</td>\n",
       "      <td>[1.0, 0.0]</td>\n",
       "      <td>[0.578, 0.422]</td>\n",
       "      <td>0.67717</td>\n",
       "      <td>[-1.49, -11.404]</td>\n",
       "      <td>[1.0, 0.0]</td>\n",
       "      <td>[0.577, 0.423]</td>\n",
       "      <td>0.68019</td>\n",
       "      <td>[0.225, 0.0]</td>\n",
       "      <td>[0.0, 1.0]</td>\n",
       "      <td>4995</td>\n",
       "      <td>[1.0, 0.0]</td>\n",
       "    </tr>\n",
       "    <tr>\n",
       "      <th>4996</th>\n",
       "      <td>10430</td>\n",
       "      <td>[1.0, 0.0]</td>\n",
       "      <td>[0.298, 0.702]</td>\n",
       "      <td>0.99302</td>\n",
       "      <td>[-0.423, -13.453]</td>\n",
       "      <td>[1.0, 0.0]</td>\n",
       "      <td>[0.302, 0.698]</td>\n",
       "      <td>0.98717</td>\n",
       "      <td>[0.637, 0.0]</td>\n",
       "      <td>[0.0, 1.0]</td>\n",
       "      <td>4996</td>\n",
       "      <td>[1.0, 0.0]</td>\n",
       "    </tr>\n",
       "    <tr>\n",
       "      <th>4997</th>\n",
       "      <td>10431</td>\n",
       "      <td>[1.0, 0.0]</td>\n",
       "      <td>[0.641, 0.359]</td>\n",
       "      <td>1.06047</td>\n",
       "      <td>[-0.698, -12.608]</td>\n",
       "      <td>[1.0, 0.0]</td>\n",
       "      <td>[0.61, 0.39]</td>\n",
       "      <td>1.15102</td>\n",
       "      <td>[0.494, 0.0]</td>\n",
       "      <td>[0.0, 1.0]</td>\n",
       "      <td>4997</td>\n",
       "      <td>[1.0, 0.0]</td>\n",
       "    </tr>\n",
       "    <tr>\n",
       "      <th>4998</th>\n",
       "      <td>10432</td>\n",
       "      <td>[1.0, 0.0]</td>\n",
       "      <td>[0.425, 0.575]</td>\n",
       "      <td>0.76863</td>\n",
       "      <td>[-1.483, -9.837]</td>\n",
       "      <td>[1.0, 0.0]</td>\n",
       "      <td>[0.423, 0.577]</td>\n",
       "      <td>0.77126</td>\n",
       "      <td>[0.231, 0.0]</td>\n",
       "      <td>[0.0, 1.0]</td>\n",
       "      <td>4998</td>\n",
       "      <td>[1.0, 0.0]</td>\n",
       "    </tr>\n",
       "  </tbody>\n",
       "</table>\n",
       "<p>4999 rows × 12 columns</p>\n",
       "</div>"
      ],
      "text/plain": [
       "       task            mu_r    classifier_r   grad_r          conf_mx_r  \\\n",
       "0         2  [0.001, 0.999]  [0.058, 0.942]  0.18946   [-5.679, -1.631]   \n",
       "1         3  [0.999, 0.001]  [0.517, 0.483]  0.36849   [-2.503, -9.936]   \n",
       "2         4      [0.0, 1.0]  [0.407, 0.593]  0.73301  [-13.192, -0.455]   \n",
       "3         9  [0.003, 0.997]    [0.49, 0.51]  0.99234   [-8.517, -2.808]   \n",
       "4        11  [0.004, 0.996]  [0.431, 0.569]  0.69401   [-5.964, -0.698]   \n",
       "...     ...             ...             ...      ...                ...   \n",
       "4994  10428      [1.0, 0.0]  [0.822, 0.178]  0.34731  [-0.764, -12.973]   \n",
       "4995  10429      [1.0, 0.0]  [0.578, 0.422]  0.67717   [-1.49, -11.404]   \n",
       "4996  10430      [1.0, 0.0]  [0.298, 0.702]  0.99302  [-0.423, -13.453]   \n",
       "4997  10431      [1.0, 0.0]  [0.641, 0.359]  1.06047  [-0.698, -12.608]   \n",
       "4998  10432      [1.0, 0.0]  [0.425, 0.575]  0.76863   [-1.483, -9.837]   \n",
       "\n",
       "              mu_rds  classifier_rds  grad_rds     conf_mx_rds likelihood_rds  \\\n",
       "0     [0.017, 0.983]  [0.063, 0.937]   0.15297  [0.003, 0.199]     [0.0, 1.0]   \n",
       "1         [1.0, 0.0]  [0.521, 0.479]   0.36540    [0.082, 0.0]     [0.0, 1.0]   \n",
       "2         [0.0, 1.0]  [0.401, 0.599]   0.72318    [0.0, 0.631]     [0.0, 1.0]   \n",
       "3     [0.004, 0.996]  [0.478, 0.522]   0.96644    [0.0, 0.058]     [0.0, 1.0]   \n",
       "4     [0.006, 0.994]  [0.436, 0.564]   0.69898    [0.003, 0.5]     [0.0, 1.0]   \n",
       "...              ...             ...       ...             ...            ...   \n",
       "4994      [1.0, 0.0]  [0.808, 0.192]   0.37402    [0.456, 0.0]     [0.0, 1.0]   \n",
       "4995      [1.0, 0.0]  [0.577, 0.423]   0.68019    [0.225, 0.0]     [0.0, 1.0]   \n",
       "4996      [1.0, 0.0]  [0.302, 0.698]   0.98717    [0.637, 0.0]     [0.0, 1.0]   \n",
       "4997      [1.0, 0.0]    [0.61, 0.39]   1.15102    [0.494, 0.0]     [0.0, 1.0]   \n",
       "4998      [1.0, 0.0]  [0.423, 0.577]   0.77126    [0.231, 0.0]     [0.0, 1.0]   \n",
       "\n",
       "      index           mu_ds  \n",
       "0         0  [0.017, 0.983]  \n",
       "1         1      [1.0, 0.0]  \n",
       "2         2      [0.0, 1.0]  \n",
       "3         3  [0.004, 0.996]  \n",
       "4         4  [0.006, 0.994]  \n",
       "...     ...             ...  \n",
       "4994   4994      [1.0, 0.0]  \n",
       "4995   4995      [1.0, 0.0]  \n",
       "4996   4996      [1.0, 0.0]  \n",
       "4997   4997      [1.0, 0.0]  \n",
       "4998   4998      [1.0, 0.0]  \n",
       "\n",
       "[4999 rows x 12 columns]"
      ]
     },
     "execution_count": 22,
     "metadata": {},
     "output_type": "execute_result"
    }
   ],
   "source": [
    "sentiment_points\n",
    "# plots_for_point(sentiment_points, sentiment_data, sentiment_methods, 1)"
   ]
  },
  {
   "cell_type": "code",
   "execution_count": null,
   "metadata": {},
   "outputs": [],
   "source": [
    "plots_for_point(sentiment_points, sentiment_data, sentiment_methods, 239)"
   ]
  },
  {
   "cell_type": "code",
   "execution_count": 30,
   "metadata": {},
   "outputs": [
    {
     "name": "stdout",
     "output_type": "stream",
     "text": [
      "0.0\n",
      "0.502\n"
     ]
    },
    {
     "data": {
      "image/png": "[encoded data removed]",
      "text/plain": [
       "<Figure size 432x288 with 1 Axes>"
      ]
     },
     "metadata": {},
     "output_type": "display_data"
    }
   ],
   "source": [
    "def build_conf_hist(points, name):\n",
    "    max_confidence = np.array(list(map(lambda x: x.max(), points[name].values)))\n",
    "    plt.hist(max_confidence, bins=20)\n",
    "    print((max_confidence > 0.995).mean())\n",
    "    print(max_confidence.min())\n",
    "build_conf_hist(mushroom_points, 'mu_ds')"
   ]
  },
  {
   "cell_type": "code",
   "execution_count": null,
   "metadata": {
    "cellId": "oqsco0tswu4sbhhdtw5tc",
    "scrolled": false
   },
   "outputs": [],
   "source": [
    "reload(ds), reload(r), reload(rds)\n",
    "music_methods, music_points, advantages_matrix = compare_methods(music_data, max_iter=200, lr=100)"
   ]
  },
  {
   "cell_type": "code",
   "execution_count": null,
   "metadata": {},
   "outputs": [],
   "source": [
    "# music_points[music_points.grad_r < 2]"
   ]
  },
  {
   "cell_type": "code",
   "execution_count": null,
   "metadata": {},
   "outputs": [],
   "source": [
    "buckets, confidences = build_grad_hist(music_data, music_methods, music_points, 'Music', 70);\n",
    "condidence_music = get_confidence(buckets[0], confidences[0])"
   ]
  },
  {
   "cell_type": "code",
   "execution_count": null,
   "metadata": {
    "scrolled": false
   },
   "outputs": [],
   "source": [
    "reload(ds), reload(r), reload(rds)\n",
    "music_methods, music_points, advantages_matrix = compare_methods(music_data, max_iter=200, lr=100, confidence_estimator=condidence_music)"
   ]
  },
  {
   "cell_type": "code",
   "execution_count": null,
   "metadata": {},
   "outputs": [],
   "source": [
    "music_points[music_points.task.isin(advantages_matrix[1][2])]"
   ]
  },
  {
   "cell_type": "code",
   "execution_count": null,
   "metadata": {
    "cellId": "fkiy2i7liztzg6b57i01ln"
   },
   "outputs": [],
   "source": [
    "# reload(ds)\n",
    "# reload(r)\n",
    "# reload(rds)\n",
    "\n",
    "# shuffle_features(ionosphere_data)\n",
    "\n",
    "# ionosphere_methods = compare_methods(ionosphere_data, max_iter=100)"
   ]
  },
  {
   "cell_type": "code",
   "execution_count": null,
   "metadata": {
    "cellId": "0m96z0kih04ytrsopudms"
   },
   "outputs": [],
   "source": [
    "# reload(ds), reload(r), reload(rds)\n",
    "\n",
    "# shuffle_features(sentiment_data)\n",
    "\n",
    "# sentiment_methods = compare_methods(sentiment_data, max_iter=15)\n",
    "# # print_conf(sentiment_methods)"
   ]
  },
  {
   "cell_type": "code",
   "execution_count": null,
   "metadata": {
    "cellId": "jzmhqk33x8mmo6nnshm6q"
   },
   "outputs": [],
   "source": [
    "# reload(ds), reload(r), reload(rds)\n",
    "# shuffle_features(music_data)\n",
    "# music_methods = compare_methods(music_data, max_iter=100)"
   ]
  },
  {
   "cell_type": "code",
   "execution_count": null,
   "metadata": {
    "cellId": "61xe9u2usstxm3fb82c8s"
   },
   "outputs": [],
   "source": []
  },
  {
   "cell_type": "code",
   "execution_count": null,
   "metadata": {
    "cellId": "qyyf03tfk0imrbw1207ae"
   },
   "outputs": [],
   "source": []
  },
  {
   "cell_type": "markdown",
   "metadata": {
    "cellId": "jdbzsq2kczpofhc9csfneh"
   },
   "source": [
    "Check sentiment dataset"
   ]
  },
  {
   "cell_type": "code",
   "execution_count": null,
   "metadata": {
    "cellId": "czvabk006lgzouilja32sh"
   },
   "outputs": [],
   "source": [
    "X_train, y_train = features2np(sentiment_data)\n",
    "\n",
    "reg = LogisticRegression().fit(X_train, y_train)\n",
    "\n",
    "X_test, y_test = sentiment_data.test()\n",
    "\n",
    "pred = reg.predict(X_train)\n",
    "print(accuracy_score(y_train, pred))\n",
    "\n",
    "pred = reg.predict(X_test)\n",
    "print(accuracy_score(y_test, pred))"
   ]
  },
  {
   "cell_type": "code",
   "execution_count": null,
   "metadata": {
    "cellId": "gt9271swb94h6begzoqolo"
   },
   "outputs": [],
   "source": [
    "X_train, y_train = features2np(mushrooms_data)\n",
    "\n",
    "reg = LogisticRegression().fit(X_train, y_train)\n",
    "\n",
    "X_test, y_test = mushrooms_data.test()\n",
    "\n",
    "pred = reg.predict(X_train)\n",
    "print(accuracy_score(y_train, pred))\n",
    "\n",
    "pred = reg.predict(X_test)\n",
    "print(accuracy_score(y_test, pred))"
   ]
  },
  {
   "cell_type": "code",
   "execution_count": null,
   "metadata": {
    "cellId": "3bp6q3vdi1tjcmd3fbk08"
   },
   "outputs": [],
   "source": [
    "len(sentiment_data.gold())"
   ]
  },
  {
   "cell_type": "code",
   "execution_count": null,
   "metadata": {
    "cellId": "9nh3jusrl2gd4zbbnei0tg"
   },
   "outputs": [],
   "source": [
    "(y_test == 'pos').sum() / len(y_test)"
   ]
  },
  {
   "cell_type": "code",
   "execution_count": null,
   "metadata": {
    "cellId": "huoyrmywbpfgqd7xblzj8e"
   },
   "outputs": [],
   "source": [
    "X_train, y_train = features2np(music_data)\n",
    "# X_train[:, -1] = 1\n",
    "\n",
    "reg = LogisticRegression(max_iter=2000).fit(X_train, y_train)\n",
    "\n",
    "X_test, y_test = music_data.test()\n",
    "# X_test[:, -1] = 1\n",
    "\n",
    "pred = reg.predict(X_train)\n",
    "print(accuracy_score(y_train, pred))\n",
    "\n",
    "pred = reg.predict(X_test)\n",
    "print(accuracy_score(y_test, pred))"
   ]
  },
  {
   "cell_type": "code",
   "execution_count": null,
   "metadata": {},
   "outputs": [],
   "source": [
    "X_train, y_train = features2np(toloka_data)\n",
    "# X_train[:, -1] = 1\n",
    "\n",
    "reg = LogisticRegression(max_iter=2000).fit(X_train, y_train)\n",
    "\n",
    "# X_test, y_test = music_data.test()\n",
    "# X_test[:, -1] = 1\n",
    "\n",
    "pred = reg.predict(X_train)\n",
    "print(accuracy_score(y_train, pred))\n",
    "len(toloka_data.gold())\n",
    "reg.coef_\n",
    "# X_train.shape\n",
    "# X_train\n",
    "# pred = reg.predict(X_test)\n",
    "# print(accuracy_score(y_test, pred))lf "
   ]
  },
  {
   "cell_type": "code",
   "execution_count": null,
   "metadata": {
    "cellId": "oez1mah7hdicvjm5bova5r"
   },
   "outputs": [],
   "source": [
    "from sklearn.metrics import confusion_matrix\n",
    "confusion_matrix(y_test, pred)\n",
    "\n",
    "\n",
    "from sklearn.preprocessing import OneHotEncoder\n",
    "enc = OneHotEncoder(handle_unknown='ignore').fit(y_train[:, None])\n",
    "y_train1 = enc.transform(y_train[:, None]).toarray()\n",
    "y_test1 = enc.transform(y_test[:, None]).toarray()\n",
    "y_train1.shape"
   ]
  },
  {
   "cell_type": "code",
   "execution_count": null,
   "metadata": {
    "cellId": "hcu70khcro654nbha49tlf"
   },
   "outputs": [],
   "source": []
  },
  {
   "cell_type": "code",
   "execution_count": null,
   "metadata": {
    "cellId": "y7n4elfpimox5eyyy8e6ro"
   },
   "outputs": [],
   "source": [
    "def consistency(data, iters=100000):\n",
    "    cnt = 0\n",
    "    task2annotations = defaultdict(list)\n",
    "    for a in data.labels():\n",
    "        task2annotations[a.task].append(a)\n",
    "    for _ in range(iters):\n",
    "        a = random.choice(data.labels())\n",
    "        if len(task2annotations[a.task]) == 1:\n",
    "#             cnt+=1\n",
    "            continue\n",
    "        b = random.choice(task2annotations[a.task])\n",
    "        while a == b:\n",
    "            b = random.choice(task2annotations[a.task])\n",
    "        if a.value == b.value:\n",
    "            cnt += 1\n",
    "    return cnt / iters\n",
    "print(f\"Ionosphere consistency is {consistency(ionosphere_data)}\")\n",
    "print(f\"Sentiment consistency is {consistency(sentiment_data)}\")\n",
    "print(f\"Music consistency is {consistency(music_data)}\")"
   ]
  },
  {
   "cell_type": "code",
   "execution_count": null,
   "metadata": {
    "cellId": "5j4dthdw2h91wtyun52trh"
   },
   "outputs": [],
   "source": []
  },
  {
   "cell_type": "code",
   "execution_count": null,
   "metadata": {
    "cellId": "o4dkcln5mgc5lnqz90q"
   },
   "outputs": [],
   "source": []
  },
  {
   "cell_type": "code",
   "execution_count": null,
   "metadata": {
    "cellId": "ai6s1z6gz4f5v8ns04izlx"
   },
   "outputs": [],
   "source": [
    "def run_classifier(dataset, n_classes=2, iters=100, lr=0.1):\n",
    "    ids, features, gold = data.group_data(dataset.features(), dataset.gold())\n",
    "    c = cls.Classifier(n_features=features.shape[1], n_classes=n_classes, lr=lr)\n",
    "\n",
    "    labels = np.unique(gold)\n",
    "\n",
    "    X = features\n",
    "    Xs = X.T.dot(X)\n",
    "    mu = np.zeros((len(features), len(labels)))\n",
    "    for i, label in enumerate(labels):\n",
    "        mu[gold == label, i] = 1\n",
    "    for i in tqdm(range(iters)):\n",
    "        c.update_w(X, Xs, mu, len(features))\n",
    "\n",
    "    results = c.apply(features, labels)\n",
    "    \n",
    "    return c, results, features, gold"
   ]
  },
  {
   "cell_type": "code",
   "execution_count": null,
   "metadata": {
    "cellId": "vetydqtb65nvo1rbex6svd"
   },
   "outputs": [],
   "source": [
    "def build_cls_grad_hist(ax, cls, features, correct, name, n_bucket=100):\n",
    "    print(correct.sum() / len(correct))\n",
    "    fig = plt.figure(figsize=(12, 8))\n",
    "    print(f'Number of data points: {len(correct)}')\n",
    "    \n",
    "    scores = cls.get_scores(features)\n",
    "\n",
    "    result = []\n",
    "\n",
    "    for f, s, c in zip(features, scores, correct):\n",
    "        if type(s) is float:\n",
    "            grad = np.linalg.norm(min(1 - s, s) * f)\n",
    "        else:\n",
    "            grad = np.linalg.norm((1 - np.max(s)) * f)\n",
    "        if c:\n",
    "            result.append([grad, True])\n",
    "        else:\n",
    "            result.append([grad, False])\n",
    "\n",
    "    result = np.array(sorted(result))\n",
    "    print(result[-1])\n",
    "    n = int(np.ceil(len(correct) / n_bucket))\n",
    "    xs = []\n",
    "    widths = []\n",
    "    heights = []\n",
    "    for i in range(n):\n",
    "        cur_points = result[n_bucket * i: min(n_bucket * (i + 1), len(correct))]\n",
    "        xs.append((cur_points[0, 0] + cur_points[-1, 0]) * 0.5)\n",
    "        widths.append((cur_points[-1, 0] - cur_points[0, 0]))\n",
    "        heights.append(cur_points[:, 1].sum() / len(cur_points))\n",
    "        if widths[-1] == 0:\n",
    "            print(cur_points)\n",
    "\n",
    "    ax.bar(xs, height=heights, width=widths)\n",
    "    ax.set_xlabel('Gradient')\n",
    "    ax.set_ylabel('Accuracy')\n",
    "    ax.set_title(name)\n",
    "    print(np.array(heights).mean())\n",
    "    print(widths)\n"
   ]
  },
  {
   "cell_type": "code",
   "execution_count": null,
   "metadata": {
    "cellId": "zwufobxlrucu4owfraw4h"
   },
   "outputs": [],
   "source": [
    "# c_sentiment, results_sentiment, features_sentiment, gold_sentiment = run_classifier(sentiment_data, iters=15)\n",
    "# c_mushrooms, results_mushroomes, features_mushrooms, gold_mushrooms = run_classifier(mushrooms_data, iters=50)\n",
    "c_music, results_music, features_music, gold_music = run_classifier(music_data, n_classes=10, iters=50, lr=100)\n",
    "c_toloka, results_toloka, features_toloka, gold_toloka = run_classifier(toloka_data, n_classes=5, iters=50, lr=100)"
   ]
  },
  {
   "cell_type": "code",
   "execution_count": null,
   "metadata": {
    "cellId": "uahd32fgnlk7sgck1o47n7"
   },
   "outputs": [],
   "source": [
    "fig = plt.figure(figsize=(12, 10))\n",
    "ax = fig.subplots(nrows=4, ncols=1)\n",
    "\n",
    "\n",
    "# build_cls_grad_hist(ax[0], c_mushrooms, features_mushrooms, results_mushroomes == gold_mushrooms, \"Mushrooms\", 400)\n",
    "# build_cls_grad_hist(ax[1], c_sentiment, features_sentiment, results_sentiment == gold_sentiment, \"Sentiment\", 400)\n",
    "build_cls_grad_hist(ax[2], c_music, features_music, results_music == gold_music, \"Music\", 70)\n",
    "build_cls_grad_hist(ax[3], c_toloka, features_toloka, results_toloka == gold_toloka, \"Toloka\", 70)"
   ]
  },
  {
   "cell_type": "code",
   "execution_count": null,
   "metadata": {
    "cellId": "rj2z73vgvgfo634j5h6qn"
   },
   "outputs": [],
   "source": [
    "scores = c.get_scores(features)\n",
    "plt.hist(scores)"
   ]
  },
  {
   "cell_type": "code",
   "execution_count": null,
   "metadata": {
    "cellId": "frm4cjms3eg7x99b3qa8e"
   },
   "outputs": [],
   "source": [
    "(results_music == gold_music).mean()"
   ]
  },
  {
   "cell_type": "code",
   "execution_count": null,
   "metadata": {
    "cellId": "p3apfx4rze9lvgq4jw1os"
   },
   "outputs": [],
   "source": [
    "results_music"
   ]
  },
  {
   "cell_type": "code",
   "execution_count": null,
   "metadata": {
    "cellId": "2ntsgg817s1fsyy43dkjy"
   },
   "outputs": [],
   "source": [
    "from sklearn.datasets import load_iris"
   ]
  },
  {
   "cell_type": "code",
   "execution_count": null,
   "metadata": {},
   "outputs": [],
   "source": [
    "X, y = load_iris(return_X_y=True)\n",
    "features = np.ones((X.shape[0], X.shape[1] + 1))\n",
    "features[:, :-1] = X\n",
    "X = features"
   ]
  },
  {
   "cell_type": "code",
   "execution_count": null,
   "metadata": {},
   "outputs": [],
   "source": [
    "reload_all()\n",
    "\n",
    "c = cls.Classifier(n_features=X.shape[1], n_classes=3, lr=1000)\n",
    "\n",
    "labels = np.unique(y)\n",
    "\n",
    "Xs = X.T.dot(X)\n",
    "mu = np.zeros((len(X), len(labels)))\n",
    "for i, label in enumerate(labels):\n",
    "    mu[y == label, i] = 1\n",
    "for i in tqdm(range(60)):\n",
    "    c.update_w(X, Xs, mu, len(X))\n",
    "\n",
    "results = c.apply(X, labels)\n",
    "(results == y).mean()"
   ]
  },
  {
   "cell_type": "code",
   "execution_count": null,
   "metadata": {},
   "outputs": [],
   "source": [
    "logreg = LogisticRegression().fit(X, y)"
   ]
  },
  {
   "cell_type": "code",
   "execution_count": null,
   "metadata": {},
   "outputs": [],
   "source": []
  },
  {
   "cell_type": "code",
   "execution_count": null,
   "metadata": {},
   "outputs": [],
   "source": []
  },
  {
   "cell_type": "code",
   "execution_count": null,
   "metadata": {},
   "outputs": [],
   "source": []
  },
  {
   "cell_type": "code",
   "execution_count": null,
   "metadata": {},
   "outputs": [],
   "source": []
  },
  {
   "cell_type": "code",
   "execution_count": null,
   "metadata": {},
   "outputs": [],
   "source": [
    "(404517869995362 + 35) % 37"
   ]
  },
  {
   "cell_type": "code",
   "execution_count": null,
   "metadata": {},
   "outputs": [],
   "source": [
    "404517869991331 % 37"
   ]
  },
  {
   "cell_type": "code",
   "execution_count": null,
   "metadata": {},
   "outputs": [],
   "source": [
    "np.random.randn(3, 3) * 0.1"
   ]
  },
  {
   "cell_type": "code",
   "execution_count": null,
   "metadata": {},
   "outputs": [],
   "source": []
  }
 ],
 "metadata": {
  "kernelspec": {
   "display_name": "Python 3",
   "language": "python",
   "name": "python3"
  },
  "language_info": {
   "codemirror_mode": {
    "name": "ipython",
    "version": 3
   },
   "file_extension": ".py",
   "mimetype": "text/x-python",
   "name": "python",
   "nbconvert_exporter": "python",
   "pygments_lexer": "ipython3",
   "version": "3.7.4"
  },
  "notebookId": "89519e6e-ca32-40de-a485-96edf29c8f7c"
 },
 "nbformat": 4,
 "nbformat_minor": 4
}
